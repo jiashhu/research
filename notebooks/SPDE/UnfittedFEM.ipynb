{
 "cells": [
  {
   "attachments": {},
   "cell_type": "markdown",
   "metadata": {},
   "source": [
    "# UnfittedFEM\n",
    "\n",
    "## Literatures\n",
    "* DDE+2010IJNA: An h-narrow band finite-element method for elliptic equations on implicit surfaces: discretisation error analysis for a narrow band level set method using the\n",
    "unfitted finite element method for surface elliptic equation\n",
    "* "
   ]
  },
  {
   "attachments": {},
   "cell_type": "markdown",
   "metadata": {},
   "source": [
    "[9]: DE2007IJMA: introducing ESFEM for diffusion and transport on surface\n"
   ]
  }
 ],
 "metadata": {
  "language_info": {
   "name": "python"
  },
  "orig_nbformat": 4
 },
 "nbformat": 4,
 "nbformat_minor": 2
}
